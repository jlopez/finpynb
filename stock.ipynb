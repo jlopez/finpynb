{
 "metadata": {
  "language_info": {
   "codemirror_mode": {
    "name": "ipython",
    "version": 3
   },
   "file_extension": ".py",
   "mimetype": "text/x-python",
   "name": "python",
   "nbconvert_exporter": "python",
   "pygments_lexer": "ipython3",
   "version": "3.9.1-final"
  },
  "orig_nbformat": 2,
  "kernelspec": {
   "name": "python3",
   "display_name": "Python 3",
   "language": "python"
  }
 },
 "nbformat": 4,
 "nbformat_minor": 2,
 "cells": [
  {
   "cell_type": "code",
   "execution_count": 306,
   "metadata": {},
   "outputs": [],
   "source": [
    "import numpy as np\n",
    "import pandas as pd\n",
    "import yfinance as yf"
   ]
  },
  {
   "cell_type": "code",
   "execution_count": 78,
   "metadata": {},
   "outputs": [],
   "source": [
    "def pct(df, periods=0):\n",
    "    shifted = df['Close'].shift(periods=periods)\n",
    "    return (df['Close'] - shifted) / shifted\n",
    "\n",
    "def history(*, ticker, start, end):\n",
    "    ticker = yf.Ticker(ticker)\n",
    "    history = ticker.history(start=start, end=end)\n",
    "    history['1day'] = pct(history, 1)\n",
    "    history['1mo'] = pct(history, 20)\n",
    "    splits = history['Stock Splits']\n",
    "    split_dates = splits[splits != 0]\n",
    "    if not split_dates.empty:\n",
    "        dates = ', '.join(str(d) for d in split_dates.keys())\n",
    "        print(\"Splits found on ticker %s: %s\" % (ticker, dates))\n",
    "    return history"
   ]
  },
  {
   "cell_type": "code",
   "execution_count": 79,
   "metadata": {},
   "outputs": [
    {
     "output_type": "stream",
     "name": "stdout",
     "text": [
      "Splits found on ticker yfinance.Ticker object <AAPL>: 2020-08-31 00:00:00\n",
      "Splits found on ticker yfinance.Ticker object <TSLA>: 2020-08-31 00:00:00\n"
     ]
    }
   ],
   "source": [
    "start, end = '2019-12-01', '2021-02-17'\n",
    "tickers = 'ARKF SQ VOO VTI QQQ XLK NIO AAPL ARKG TSLA'.split()\n",
    "data = {t: history(ticker=t, start=start, end=end) for t in tickers}"
   ]
  },
  {
   "cell_type": "code",
   "execution_count": 81,
   "metadata": {},
   "outputs": [
    {
     "output_type": "execute_result",
     "data": {
      "text/plain": [
       "                  Open        High         Low       Close    Volume  \\\n",
       "Date                                                                   \n",
       "2019-12-02   68.949997   68.959999   66.110001   66.879997   6758200   \n",
       "2019-12-03   65.300003   67.330002   64.680000   67.040001   4432700   \n",
       "2019-12-04   67.470001   68.430000   67.190002   67.779999   3715100   \n",
       "2019-12-05   67.589996   67.889999   66.660004   67.139999   4265000   \n",
       "2019-12-06   67.669998   68.322998   67.610001   67.980003   4058400   \n",
       "...                ...         ...         ...         ...       ...   \n",
       "2021-02-09  256.579987  262.570007  250.550003  258.119995  10815100   \n",
       "2021-02-10  259.769989  263.149994  252.750000  257.489990   8644600   \n",
       "2021-02-11  262.000000  269.665009  258.500000  265.929993  10191800   \n",
       "2021-02-12  265.149994  273.839996  262.531006  272.750000   6766100   \n",
       "2021-02-16  277.119995  283.190002  272.320007  276.019989   9176000   \n",
       "\n",
       "            Dividends  Stock Splits      1day       1mo  \n",
       "Date                                                     \n",
       "2019-12-02          0             0       NaN       NaN  \n",
       "2019-12-03          0             0  0.002392       NaN  \n",
       "2019-12-04          0             0  0.011038       NaN  \n",
       "2019-12-05          0             0 -0.009442       NaN  \n",
       "2019-12-06          0             0  0.012511       NaN  \n",
       "...               ...           ...       ...       ...  \n",
       "2021-02-09          0             0 -0.007116  0.144656  \n",
       "2021-02-10          0             0 -0.002441  0.131725  \n",
       "2021-02-11          0             0  0.032778  0.151611  \n",
       "2021-02-12          0             0  0.025646  0.171657  \n",
       "2021-02-16          0             0  0.011989  0.211943  \n",
       "\n",
       "[304 rows x 9 columns]"
      ],
      "text/html": "<div>\n<style scoped>\n    .dataframe tbody tr th:only-of-type {\n        vertical-align: middle;\n    }\n\n    .dataframe tbody tr th {\n        vertical-align: top;\n    }\n\n    .dataframe thead th {\n        text-align: right;\n    }\n</style>\n<table border=\"1\" class=\"dataframe\">\n  <thead>\n    <tr style=\"text-align: right;\">\n      <th></th>\n      <th>Open</th>\n      <th>High</th>\n      <th>Low</th>\n      <th>Close</th>\n      <th>Volume</th>\n      <th>Dividends</th>\n      <th>Stock Splits</th>\n      <th>1day</th>\n      <th>1mo</th>\n    </tr>\n    <tr>\n      <th>Date</th>\n      <th></th>\n      <th></th>\n      <th></th>\n      <th></th>\n      <th></th>\n      <th></th>\n      <th></th>\n      <th></th>\n      <th></th>\n    </tr>\n  </thead>\n  <tbody>\n    <tr>\n      <th>2019-12-02</th>\n      <td>68.949997</td>\n      <td>68.959999</td>\n      <td>66.110001</td>\n      <td>66.879997</td>\n      <td>6758200</td>\n      <td>0</td>\n      <td>0</td>\n      <td>NaN</td>\n      <td>NaN</td>\n    </tr>\n    <tr>\n      <th>2019-12-03</th>\n      <td>65.300003</td>\n      <td>67.330002</td>\n      <td>64.680000</td>\n      <td>67.040001</td>\n      <td>4432700</td>\n      <td>0</td>\n      <td>0</td>\n      <td>0.002392</td>\n      <td>NaN</td>\n    </tr>\n    <tr>\n      <th>2019-12-04</th>\n      <td>67.470001</td>\n      <td>68.430000</td>\n      <td>67.190002</td>\n      <td>67.779999</td>\n      <td>3715100</td>\n      <td>0</td>\n      <td>0</td>\n      <td>0.011038</td>\n      <td>NaN</td>\n    </tr>\n    <tr>\n      <th>2019-12-05</th>\n      <td>67.589996</td>\n      <td>67.889999</td>\n      <td>66.660004</td>\n      <td>67.139999</td>\n      <td>4265000</td>\n      <td>0</td>\n      <td>0</td>\n      <td>-0.009442</td>\n      <td>NaN</td>\n    </tr>\n    <tr>\n      <th>2019-12-06</th>\n      <td>67.669998</td>\n      <td>68.322998</td>\n      <td>67.610001</td>\n      <td>67.980003</td>\n      <td>4058400</td>\n      <td>0</td>\n      <td>0</td>\n      <td>0.012511</td>\n      <td>NaN</td>\n    </tr>\n    <tr>\n      <th>...</th>\n      <td>...</td>\n      <td>...</td>\n      <td>...</td>\n      <td>...</td>\n      <td>...</td>\n      <td>...</td>\n      <td>...</td>\n      <td>...</td>\n      <td>...</td>\n    </tr>\n    <tr>\n      <th>2021-02-09</th>\n      <td>256.579987</td>\n      <td>262.570007</td>\n      <td>250.550003</td>\n      <td>258.119995</td>\n      <td>10815100</td>\n      <td>0</td>\n      <td>0</td>\n      <td>-0.007116</td>\n      <td>0.144656</td>\n    </tr>\n    <tr>\n      <th>2021-02-10</th>\n      <td>259.769989</td>\n      <td>263.149994</td>\n      <td>252.750000</td>\n      <td>257.489990</td>\n      <td>8644600</td>\n      <td>0</td>\n      <td>0</td>\n      <td>-0.002441</td>\n      <td>0.131725</td>\n    </tr>\n    <tr>\n      <th>2021-02-11</th>\n      <td>262.000000</td>\n      <td>269.665009</td>\n      <td>258.500000</td>\n      <td>265.929993</td>\n      <td>10191800</td>\n      <td>0</td>\n      <td>0</td>\n      <td>0.032778</td>\n      <td>0.151611</td>\n    </tr>\n    <tr>\n      <th>2021-02-12</th>\n      <td>265.149994</td>\n      <td>273.839996</td>\n      <td>262.531006</td>\n      <td>272.750000</td>\n      <td>6766100</td>\n      <td>0</td>\n      <td>0</td>\n      <td>0.025646</td>\n      <td>0.171657</td>\n    </tr>\n    <tr>\n      <th>2021-02-16</th>\n      <td>277.119995</td>\n      <td>283.190002</td>\n      <td>272.320007</td>\n      <td>276.019989</td>\n      <td>9176000</td>\n      <td>0</td>\n      <td>0</td>\n      <td>0.011989</td>\n      <td>0.211943</td>\n    </tr>\n  </tbody>\n</table>\n<p>304 rows × 9 columns</p>\n</div>"
     },
     "metadata": {},
     "execution_count": 81
    }
   ],
   "source": [
    "class Brain:\n",
    "    def __init__(self, data):\n",
    "        self.data = data\n",
    "\n",
    "    def _extract_pct(self, ticker):\n",
    "        self.data[ticker][['1day', '1mo']].columns = []"
   ]
  },
  {
   "cell_type": "code",
   "execution_count": 101,
   "metadata": {},
   "outputs": [],
   "source": [
    "def join_column(data, column):\n",
    "    def series(ticker):\n",
    "        df = data[ticker][column]\n",
    "        df.name = ticker\n",
    "        return df\n",
    "\n",
    "    return pd.concat([series(t) for t in data.keys()], axis=1)"
   ]
  },
  {
   "cell_type": "code",
   "execution_count": 326,
   "metadata": {},
   "outputs": [],
   "source": [
    "buy_date, sell_date = '2020-01-01', '2020-12-31'\n",
    "sell_date_plus_1 = str(np.datetime64(sell_date) + np.timedelta64(1, 'D'))\n",
    "\n",
    "df_day = join_column(data, '1day').loc[buy_date:sell_date_plus_1]\n",
    "df_month = join_column(data, '1mo').loc[buy_date:sell_date_plus_1]\n",
    "df_close = join_column(data, 'Close').loc[buy_date:sell_date_plus_1]\n",
    "\n",
    "sell_price = df_close.loc[sell_date]\n",
    "ticker_count = 1 / df_close[df_close.notnull()].count(axis=1)"
   ]
  },
  {
   "cell_type": "code",
   "execution_count": 327,
   "metadata": {},
   "outputs": [
    {
     "output_type": "stream",
     "name": "stdout",
     "text": [
      "Total yield, equal allocation strategy: 133.8 %\n"
     ]
    }
   ],
   "source": [
    "allocated = df_close.copy()\n",
    "allocated[:] = daily_investment\n",
    "allocated = allocated.mul(ticker_count, axis=0)\n",
    "shares = allocated / df_close\n",
    "sell_value = shares.sum() * sell_price\n",
    "total_value = sell_value.sum()\n",
    "total_invested = allocated.sum().sum()\n",
    "yld = (total_value - total_invested) / total_invested\n",
    "print(\"Total yield, equal allocation strategy:\", round(yld * 100, 1), '%')"
   ]
  },
  {
   "cell_type": "code",
   "execution_count": 328,
   "metadata": {},
   "outputs": [
    {
     "output_type": "stream",
     "name": "stdout",
     "text": [
      "Total yield, biggest loser strategy: 153.2 %\n"
     ]
    }
   ],
   "source": [
    "achievement = df_day.sub(df_day.max(axis=1), axis=0)\n",
    "allocated = achievement.div(achievement.sum(axis=1), axis=0)\n",
    "shares = allocated / df_close\n",
    "sell_value = shares.sum() * sell_price\n",
    "total_value = sell_value.sum()\n",
    "total_invested = allocated.sum().sum()\n",
    "yld = (total_value - total_invested) / total_invested\n",
    "print(\"Total yield, biggest loser strategy:\", round(yld * 100, 1), '%')"
   ]
  },
  {
   "cell_type": "code",
   "execution_count": 329,
   "metadata": {},
   "outputs": [
    {
     "output_type": "stream",
     "name": "stdout",
     "text": [
      "Total yield, filtered( 2 ) biggest loser strategy: 145.9 %\n"
     ]
    }
   ],
   "source": [
    "n_filter = 2\n",
    "\n",
    "worst = df_month.apply(lambda s: s.nsmallest(n_filter).index.tolist(), axis=1)\n",
    "\n",
    "def modify(s):\n",
    "    rv = s.copy()\n",
    "    rv[worst[s.name]] = s.max()\n",
    "    return rv\n",
    "\n",
    "updated = df_day.apply(modify, axis=1)\n",
    "achievement = updated.sub(updated.max(axis=1), axis=0)\n",
    "allocated = achievement.div(achievement.sum(axis=1), axis=0)\n",
    "shares = allocated / df_close\n",
    "sell_value = shares.sum() * sell_price\n",
    "total_value = sell_value.sum()\n",
    "total_invested = allocated.sum().sum()\n",
    "yld = (total_value - total_invested) / total_invested\n",
    "print(\"Total yield, filtered(\", n_filter, \") biggest loser strategy:\", round(yld * 100, 1), '%')"
   ]
  },
  {
   "cell_type": "code",
   "execution_count": 330,
   "metadata": {},
   "outputs": [
    {
     "output_type": "stream",
     "name": "stdout",
     "text": [
      "Total yield, biggest loser w/winner( 1.4 ) strategy: 251.3 %\n"
     ]
    }
   ],
   "source": [
    "winner_buffer = 1.4\n",
    "achievement = df_day.sub(df_day.max(axis=1) * winner_buffer, axis=0)\n",
    "allocated = achievement.div(achievement.sum(axis=1), axis=0)\n",
    "shares = allocated / df_close\n",
    "sell_value = shares.sum() * sell_price\n",
    "total_value = sell_value.sum()\n",
    "total_invested = allocated.sum().sum()\n",
    "yld = (total_value - total_invested) / total_invested\n",
    "print(\"Total yield, biggest loser w/winner(\", winner_buffer, \") strategy:\", round(yld * 100, 1), '%')"
   ]
  }
 ]
}